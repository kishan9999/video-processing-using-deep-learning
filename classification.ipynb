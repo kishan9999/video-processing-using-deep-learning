{
 "cells": [
  {
   "cell_type": "code",
   "execution_count": 2,
   "metadata": {
    "_cell_guid": "b1076dfc-b9ad-4769-8c92-a6c4dae69d19",
    "_uuid": "8f2839f25d086af736a60e9eeb907d3b93b6e0e5",
    "execution": {
     "iopub.execute_input": "2024-06-16T04:24:58.258376Z",
     "iopub.status.busy": "2024-06-16T04:24:58.257693Z",
     "iopub.status.idle": "2024-06-16T04:25:08.031782Z",
     "shell.execute_reply": "2024-06-16T04:25:08.030649Z",
     "shell.execute_reply.started": "2024-06-16T04:24:58.258345Z"
    }
   },
   "outputs": [
    {
     "name": "stderr",
     "output_type": "stream",
     "text": [
      "2024-06-16 04:25:00.901803: E external/local_xla/xla/stream_executor/cuda/cuda_dnn.cc:9261] Unable to register cuDNN factory: Attempting to register factory for plugin cuDNN when one has already been registered\n",
      "2024-06-16 04:25:00.901915: E external/local_xla/xla/stream_executor/cuda/cuda_fft.cc:607] Unable to register cuFFT factory: Attempting to register factory for plugin cuFFT when one has already been registered\n",
      "2024-06-16 04:25:01.026370: E external/local_xla/xla/stream_executor/cuda/cuda_blas.cc:1515] Unable to register cuBLAS factory: Attempting to register factory for plugin cuBLAS when one has already been registered\n"
     ]
    }
   ],
   "source": [
    "import sys\n",
    "from absl import logging\n",
    "logging.get_absl_handler().python_handler.stream = sys.stdout\n",
    "\n",
    "import numpy as np\n",
    "import pandas as pd \n",
    "import matplotlib.pyplot as plt\n",
    "import os\n",
    "import tensorflow as tf\n",
    "from tqdm import tqdm\n",
    "from tensorflow.keras.preprocessing.image import load_img\n",
    "from tensorflow.keras.applications.mobilenet_v2 import preprocess_input"
   ]
  },
  {
   "cell_type": "markdown",
   "metadata": {},
   "source": [
    "## Preparing Dataset"
   ]
  },
  {
   "cell_type": "code",
   "execution_count": 7,
   "metadata": {
    "execution": {
     "iopub.execute_input": "2024-06-16T04:28:01.946805Z",
     "iopub.status.busy": "2024-06-16T04:28:01.945818Z",
     "iopub.status.idle": "2024-06-16T04:28:01.954612Z",
     "shell.execute_reply": "2024-06-16T04:28:01.953590Z",
     "shell.execute_reply.started": "2024-06-16T04:28:01.946762Z"
    }
   },
   "outputs": [],
   "source": [
    "IMG_WIDTH = 112\n",
    "IMG_HEIGHT = 112\n",
    "IMG_CHANNELS = 3\n",
    "SAMPLES = 21000  #train 42000\n",
    "SAMPLES2 = 9000  #validation\n",
    "SAMPLES3 = 9000  #test\n",
    "CATEGORIES = 1 # 1 for binary classification problem\n",
    "\n",
    "x_train = np.zeros((SAMPLES, IMG_HEIGHT, IMG_WIDTH, IMG_CHANNELS), dtype='float32')\n",
    "y_train = np.zeros((SAMPLES, CATEGORIES), dtype='int32')\n",
    "\n",
    "x_val = np.zeros((SAMPLES2, IMG_HEIGHT, IMG_WIDTH, IMG_CHANNELS), dtype='float32')\n",
    "y_val = np.zeros((SAMPLES2, CATEGORIES), dtype='int32')\n",
    "\n",
    "x_test = np.zeros((SAMPLES2, IMG_HEIGHT, IMG_WIDTH, IMG_CHANNELS), dtype='float32')\n",
    "y_test = np.zeros((SAMPLES2, CATEGORIES), dtype='int32')\n",
    "\n",
    "label_code = {'indoor':0, 'outdoor':1}"
   ]
  },
  {
   "cell_type": "code",
   "execution_count": 8,
   "metadata": {
    "execution": {
     "iopub.execute_input": "2024-06-16T04:28:04.882310Z",
     "iopub.status.busy": "2024-06-16T04:28:04.881921Z",
     "iopub.status.idle": "2024-06-16T04:29:49.058162Z",
     "shell.execute_reply": "2024-06-16T04:29:49.057162Z",
     "shell.execute_reply.started": "2024-06-16T04:28:04.882280Z"
    }
   },
   "outputs": [
    {
     "name": "stderr",
     "output_type": "stream",
     "text": [
      " 50%|████▉     | 10499/21000 [00:17<00:17, 608.54it/s]\n",
      " 50%|████▉     | 10499/21000 [00:39<00:39, 264.61it/s]\n",
      "100%|██████████| 4500/4500 [00:17<00:00, 263.32it/s]\n",
      "100%|██████████| 4500/4500 [00:16<00:00, 277.32it/s]\n"
     ]
    }
   ],
   "source": [
    "#training dataset\n",
    "i = 0\n",
    "for dirname, _, filenames in os.walk('./training/indoor'):\n",
    "    for filename in tqdm(filenames):\n",
    "        _path = os.path.join(dirname, filename)\n",
    "        _img = load_img(_path, color_mode = \"rgb\", target_size=(IMG_HEIGHT, IMG_WIDTH))  #h, w\n",
    "        _img = np.array(_img, dtype = 'float32')\n",
    "        _img = preprocess_input(_img)\n",
    "        x_train[i,:,:,:3]  = _img\n",
    "        y_train[i,0] = 0\n",
    "        i += 1\n",
    "        if i==10500:\n",
    "            break\n",
    "\n",
    "for dirname, _, filenames in os.walk('./training/outdoor'):\n",
    "    for filename in tqdm(filenames):\n",
    "        _path = os.path.join(dirname, filename)\n",
    "        _img = load_img(_path, color_mode = \"rgb\", target_size=(IMG_HEIGHT, IMG_WIDTH))  #h, w\n",
    "        _img = np.array(_img, dtype = 'float32')\n",
    "        _img = preprocess_input(_img)\n",
    "        x_train[i,:,:,:3]  = _img\n",
    "        y_train[i,0] = 1\n",
    "        i += 1\n",
    "        if i==21000:\n",
    "            break\n",
    "\n",
    "#validation dataset\n",
    "i = 0\n",
    "for dirname, _, filenames in os.walk('./validation/indoor'):\n",
    "    for filename in tqdm(filenames):\n",
    "        _path = os.path.join(dirname, filename)\n",
    "        _img = load_img(_path, color_mode = \"rgb\", target_size=(IMG_HEIGHT, IMG_WIDTH))  #h, w\n",
    "        _img = np.array(_img, dtype = 'float32')\n",
    "        _img = preprocess_input(_img)\n",
    "        x_val[i,:,:,:3]  = _img\n",
    "        y_val[i,0] = 0\n",
    "        i += 1\n",
    "for dirname, _, filenames in os.walk('./validation/outdoor'):\n",
    "    for filename in tqdm(filenames):\n",
    "        _path = os.path.join(dirname, filename)\n",
    "        _img = load_img(_path, color_mode = \"rgb\", target_size=(IMG_HEIGHT, IMG_WIDTH))  #h, w\n",
    "        _img = np.array(_img, dtype = 'float32')\n",
    "        _img = preprocess_input(_img)\n",
    "        x_val[i,:,:,:3]  = _img\n",
    "        y_val[i,0] = 1\n",
    "        i += 1"
   ]
  },
  {
   "cell_type": "code",
   "execution_count": 17,
   "metadata": {
    "execution": {
     "iopub.execute_input": "2024-06-16T04:35:22.553560Z",
     "iopub.status.busy": "2024-06-16T04:35:22.552876Z",
     "iopub.status.idle": "2024-06-16T04:36:26.358279Z",
     "shell.execute_reply": "2024-06-16T04:36:26.357302Z",
     "shell.execute_reply.started": "2024-06-16T04:35:22.553528Z"
    }
   },
   "outputs": [
    {
     "name": "stderr",
     "output_type": "stream",
     "text": [
      "100%|██████████| 4500/4500 [00:24<00:00, 181.66it/s]\n",
      "100%|██████████| 4500/4500 [00:27<00:00, 166.08it/s]\n"
     ]
    }
   ],
   "source": [
    "#testing dataset\n",
    "i = 0\n",
    "for dirname, _, filenames in os.walk('./testing/indoor'):\n",
    "    for filename in tqdm(filenames):\n",
    "        _path = os.path.join(dirname, filename)\n",
    "        _img = load_img(_path, color_mode = \"rgb\", target_size=(IMG_HEIGHT, IMG_WIDTH))  #h, w\n",
    "        _img = np.array(_img, dtype = 'float32')\n",
    "        _img = preprocess_input(_img)\n",
    "        x_test[i,:,:,:3]  = _img\n",
    "        y_test[i,0] = 0\n",
    "        i += 1\n",
    "for dirname, _, filenames in os.walk('./testing/outdoor'):\n",
    "    for filename in tqdm(filenames):\n",
    "        _path = os.path.join(dirname, filename)\n",
    "        _img = load_img(_path, color_mode = \"rgb\", target_size=(IMG_HEIGHT, IMG_WIDTH))  #h, w\n",
    "        _img = np.array(_img, dtype = 'float32')\n",
    "        _img = preprocess_input(_img)\n",
    "        x_test[i,:,:,:3]  = _img\n",
    "        y_test[i,0] = 1\n",
    "        i += 1"
   ]
  },
  {
   "cell_type": "code",
   "execution_count": 5,
   "metadata": {
    "execution": {
     "iopub.execute_input": "2024-06-16T03:44:06.473459Z",
     "iopub.status.busy": "2024-06-16T03:44:06.472459Z",
     "iopub.status.idle": "2024-06-16T03:44:09.426937Z",
     "shell.execute_reply": "2024-06-16T03:44:09.425777Z",
     "shell.execute_reply.started": "2024-06-16T03:44:06.473400Z"
    }
   },
   "outputs": [],
   "source": [
    "#Random Suffling training data\n",
    "from sklearn.utils import shuffle\n",
    "x_train, y_train = shuffle(x_train, y_train, random_state=123)"
   ]
  },
  {
   "cell_type": "markdown",
   "metadata": {},
   "source": [
    "## Model Setup"
   ]
  },
  {
   "cell_type": "code",
   "execution_count": 12,
   "metadata": {
    "execution": {
     "iopub.execute_input": "2024-06-16T04:33:54.772071Z",
     "iopub.status.busy": "2024-06-16T04:33:54.768464Z",
     "iopub.status.idle": "2024-06-16T04:33:55.621400Z",
     "shell.execute_reply": "2024-06-16T04:33:55.620496Z",
     "shell.execute_reply.started": "2024-06-16T04:33:54.772034Z"
    }
   },
   "outputs": [
    {
     "name": "stderr",
     "output_type": "stream",
     "text": [
      "/tmp/ipykernel_989/2865796948.py:2: UserWarning: `input_shape` is undefined or non-square, or `rows` is not in [96, 128, 160, 192, 224]. Weights for input shape (224, 224) will be loaded as the default.\n",
      "  base_model = tf.keras.applications.MobileNetV2(weights='imagenet',input_shape=(112, 112, 3),include_top=False)\n"
     ]
    },
    {
     "data": {
      "text/html": [
       "<pre style=\"white-space:pre;overflow-x:auto;line-height:normal;font-family:Menlo,'DejaVu Sans Mono',consolas,'Courier New',monospace\"><span style=\"font-weight: bold\">Model: \"functional_3\"</span>\n",
       "</pre>\n"
      ],
      "text/plain": [
       "\u001b[1mModel: \"functional_3\"\u001b[0m\n"
      ]
     },
     "metadata": {},
     "output_type": "display_data"
    },
    {
     "data": {
      "text/html": [
       "<pre style=\"white-space:pre;overflow-x:auto;line-height:normal;font-family:Menlo,'DejaVu Sans Mono',consolas,'Courier New',monospace\">┏━━━━━━━━━━━━━━━━━━━━━━━━━━━━━━━━━┳━━━━━━━━━━━━━━━━━━━━━━━━┳━━━━━━━━━━━━━━━┓\n",
       "┃<span style=\"font-weight: bold\"> Layer (type)                    </span>┃<span style=\"font-weight: bold\"> Output Shape           </span>┃<span style=\"font-weight: bold\">       Param # </span>┃\n",
       "┡━━━━━━━━━━━━━━━━━━━━━━━━━━━━━━━━━╇━━━━━━━━━━━━━━━━━━━━━━━━╇━━━━━━━━━━━━━━━┩\n",
       "│ input_layer_3 (<span style=\"color: #0087ff; text-decoration-color: #0087ff\">InputLayer</span>)      │ (<span style=\"color: #00d7ff; text-decoration-color: #00d7ff\">None</span>, <span style=\"color: #00af00; text-decoration-color: #00af00\">112</span>, <span style=\"color: #00af00; text-decoration-color: #00af00\">112</span>, <span style=\"color: #00af00; text-decoration-color: #00af00\">3</span>)    │             <span style=\"color: #00af00; text-decoration-color: #00af00\">0</span> │\n",
       "├─────────────────────────────────┼────────────────────────┼───────────────┤\n",
       "│ mobilenetv2_1.00_224            │ (<span style=\"color: #00d7ff; text-decoration-color: #00d7ff\">None</span>, <span style=\"color: #00af00; text-decoration-color: #00af00\">4</span>, <span style=\"color: #00af00; text-decoration-color: #00af00\">4</span>, <span style=\"color: #00af00; text-decoration-color: #00af00\">1280</span>)     │     <span style=\"color: #00af00; text-decoration-color: #00af00\">2,257,984</span> │\n",
       "│ (<span style=\"color: #0087ff; text-decoration-color: #0087ff\">Functional</span>)                    │                        │               │\n",
       "├─────────────────────────────────┼────────────────────────┼───────────────┤\n",
       "│ global_average_pooling2d_1      │ (<span style=\"color: #00d7ff; text-decoration-color: #00d7ff\">None</span>, <span style=\"color: #00af00; text-decoration-color: #00af00\">1280</span>)           │             <span style=\"color: #00af00; text-decoration-color: #00af00\">0</span> │\n",
       "│ (<span style=\"color: #0087ff; text-decoration-color: #0087ff\">GlobalAveragePooling2D</span>)        │                        │               │\n",
       "├─────────────────────────────────┼────────────────────────┼───────────────┤\n",
       "│ dense_2 (<span style=\"color: #0087ff; text-decoration-color: #0087ff\">Dense</span>)                 │ (<span style=\"color: #00d7ff; text-decoration-color: #00d7ff\">None</span>, <span style=\"color: #00af00; text-decoration-color: #00af00\">32</span>)             │        <span style=\"color: #00af00; text-decoration-color: #00af00\">40,992</span> │\n",
       "├─────────────────────────────────┼────────────────────────┼───────────────┤\n",
       "│ dense_3 (<span style=\"color: #0087ff; text-decoration-color: #0087ff\">Dense</span>)                 │ (<span style=\"color: #00d7ff; text-decoration-color: #00d7ff\">None</span>, <span style=\"color: #00af00; text-decoration-color: #00af00\">1</span>)              │            <span style=\"color: #00af00; text-decoration-color: #00af00\">33</span> │\n",
       "└─────────────────────────────────┴────────────────────────┴───────────────┘\n",
       "</pre>\n"
      ],
      "text/plain": [
       "┏━━━━━━━━━━━━━━━━━━━━━━━━━━━━━━━━━┳━━━━━━━━━━━━━━━━━━━━━━━━┳━━━━━━━━━━━━━━━┓\n",
       "┃\u001b[1m \u001b[0m\u001b[1mLayer (type)                   \u001b[0m\u001b[1m \u001b[0m┃\u001b[1m \u001b[0m\u001b[1mOutput Shape          \u001b[0m\u001b[1m \u001b[0m┃\u001b[1m \u001b[0m\u001b[1m      Param #\u001b[0m\u001b[1m \u001b[0m┃\n",
       "┡━━━━━━━━━━━━━━━━━━━━━━━━━━━━━━━━━╇━━━━━━━━━━━━━━━━━━━━━━━━╇━━━━━━━━━━━━━━━┩\n",
       "│ input_layer_3 (\u001b[38;5;33mInputLayer\u001b[0m)      │ (\u001b[38;5;45mNone\u001b[0m, \u001b[38;5;34m112\u001b[0m, \u001b[38;5;34m112\u001b[0m, \u001b[38;5;34m3\u001b[0m)    │             \u001b[38;5;34m0\u001b[0m │\n",
       "├─────────────────────────────────┼────────────────────────┼───────────────┤\n",
       "│ mobilenetv2_1.00_224            │ (\u001b[38;5;45mNone\u001b[0m, \u001b[38;5;34m4\u001b[0m, \u001b[38;5;34m4\u001b[0m, \u001b[38;5;34m1280\u001b[0m)     │     \u001b[38;5;34m2,257,984\u001b[0m │\n",
       "│ (\u001b[38;5;33mFunctional\u001b[0m)                    │                        │               │\n",
       "├─────────────────────────────────┼────────────────────────┼───────────────┤\n",
       "│ global_average_pooling2d_1      │ (\u001b[38;5;45mNone\u001b[0m, \u001b[38;5;34m1280\u001b[0m)           │             \u001b[38;5;34m0\u001b[0m │\n",
       "│ (\u001b[38;5;33mGlobalAveragePooling2D\u001b[0m)        │                        │               │\n",
       "├─────────────────────────────────┼────────────────────────┼───────────────┤\n",
       "│ dense_2 (\u001b[38;5;33mDense\u001b[0m)                 │ (\u001b[38;5;45mNone\u001b[0m, \u001b[38;5;34m32\u001b[0m)             │        \u001b[38;5;34m40,992\u001b[0m │\n",
       "├─────────────────────────────────┼────────────────────────┼───────────────┤\n",
       "│ dense_3 (\u001b[38;5;33mDense\u001b[0m)                 │ (\u001b[38;5;45mNone\u001b[0m, \u001b[38;5;34m1\u001b[0m)              │            \u001b[38;5;34m33\u001b[0m │\n",
       "└─────────────────────────────────┴────────────────────────┴───────────────┘\n"
      ]
     },
     "metadata": {},
     "output_type": "display_data"
    },
    {
     "data": {
      "text/html": [
       "<pre style=\"white-space:pre;overflow-x:auto;line-height:normal;font-family:Menlo,'DejaVu Sans Mono',consolas,'Courier New',monospace\"><span style=\"font-weight: bold\"> Total params: </span><span style=\"color: #00af00; text-decoration-color: #00af00\">2,299,009</span> (8.77 MB)\n",
       "</pre>\n"
      ],
      "text/plain": [
       "\u001b[1m Total params: \u001b[0m\u001b[38;5;34m2,299,009\u001b[0m (8.77 MB)\n"
      ]
     },
     "metadata": {},
     "output_type": "display_data"
    },
    {
     "data": {
      "text/html": [
       "<pre style=\"white-space:pre;overflow-x:auto;line-height:normal;font-family:Menlo,'DejaVu Sans Mono',consolas,'Courier New',monospace\"><span style=\"font-weight: bold\"> Trainable params: </span><span style=\"color: #00af00; text-decoration-color: #00af00\">41,025</span> (160.25 KB)\n",
       "</pre>\n"
      ],
      "text/plain": [
       "\u001b[1m Trainable params: \u001b[0m\u001b[38;5;34m41,025\u001b[0m (160.25 KB)\n"
      ]
     },
     "metadata": {},
     "output_type": "display_data"
    },
    {
     "data": {
      "text/html": [
       "<pre style=\"white-space:pre;overflow-x:auto;line-height:normal;font-family:Menlo,'DejaVu Sans Mono',consolas,'Courier New',monospace\"><span style=\"font-weight: bold\"> Non-trainable params: </span><span style=\"color: #00af00; text-decoration-color: #00af00\">2,257,984</span> (8.61 MB)\n",
       "</pre>\n"
      ],
      "text/plain": [
       "\u001b[1m Non-trainable params: \u001b[0m\u001b[38;5;34m2,257,984\u001b[0m (8.61 MB)\n"
      ]
     },
     "metadata": {},
     "output_type": "display_data"
    }
   ],
   "source": [
    "# mport xception model with imagenet weights\n",
    "base_model = tf.keras.applications.MobileNetV2(weights='imagenet',input_shape=(112, 112, 3),include_top=False) \n",
    "\n",
    "# freeze the base model\n",
    "base_model.trainable = False\n",
    "\n",
    "#add layers on the base model\n",
    "inputs = tf.keras.Input(shape=(112, 112, 3))\n",
    "# x = tf.keras.layers.Rescaling(scale=1 / 127.5, offset=-1)(inputs)\n",
    "x = base_model(inputs)\n",
    "x = tf.keras.layers.GlobalAveragePooling2D()(x)\n",
    "x = tf.keras.layers.Dense(32, activation = 'relu')(x)\n",
    "outputs = tf.keras.layers.Dense(1, activation = 'sigmoid' )(x)\n",
    "model = tf.keras.Model(inputs, outputs)\n",
    "\n",
    "#checkout the summary\n",
    "model.summary()"
   ]
  },
  {
   "cell_type": "markdown",
   "metadata": {},
   "source": [
    "## Trainning and Evaluation"
   ]
  },
  {
   "cell_type": "code",
   "execution_count": 13,
   "metadata": {
    "execution": {
     "iopub.execute_input": "2024-06-16T04:33:58.994349Z",
     "iopub.status.busy": "2024-06-16T04:33:58.993624Z",
     "iopub.status.idle": "2024-06-16T04:33:59.004721Z",
     "shell.execute_reply": "2024-06-16T04:33:59.003792Z",
     "shell.execute_reply.started": "2024-06-16T04:33:58.994314Z"
    }
   },
   "outputs": [],
   "source": [
    "model.compile(loss='binary_crossentropy', optimizer='adam', metrics=['accuracy'])"
   ]
  },
  {
   "cell_type": "code",
   "execution_count": 14,
   "metadata": {
    "execution": {
     "iopub.execute_input": "2024-06-16T04:34:05.251270Z",
     "iopub.status.busy": "2024-06-16T04:34:05.250486Z",
     "iopub.status.idle": "2024-06-16T04:35:07.391690Z",
     "shell.execute_reply": "2024-06-16T04:35:07.390787Z",
     "shell.execute_reply.started": "2024-06-16T04:34:05.251235Z"
    }
   },
   "outputs": [
    {
     "name": "stdout",
     "output_type": "stream",
     "text": [
      "Epoch 1/4\n",
      "\u001b[1m657/657\u001b[0m \u001b[32m━━━━━━━━━━━━━━━━━━━━\u001b[0m\u001b[37m\u001b[0m \u001b[1m26s\u001b[0m 29ms/step - accuracy: 0.8794 - loss: 0.2886 - val_accuracy: 0.9264 - val_loss: 0.1884\n",
      "Epoch 2/4\n",
      "\u001b[1m657/657\u001b[0m \u001b[32m━━━━━━━━━━━━━━━━━━━━\u001b[0m\u001b[37m\u001b[0m \u001b[1m9s\u001b[0m 14ms/step - accuracy: 0.9350 - loss: 0.1705 - val_accuracy: 0.9149 - val_loss: 0.2115\n",
      "Epoch 3/4\n",
      "\u001b[1m657/657\u001b[0m \u001b[32m━━━━━━━━━━━━━━━━━━━━\u001b[0m\u001b[37m\u001b[0m \u001b[1m9s\u001b[0m 14ms/step - accuracy: 0.9453 - loss: 0.1464 - val_accuracy: 0.9311 - val_loss: 0.1856\n",
      "Epoch 4/4\n",
      "\u001b[1m657/657\u001b[0m \u001b[32m━━━━━━━━━━━━━━━━━━━━\u001b[0m\u001b[37m\u001b[0m \u001b[1m9s\u001b[0m 14ms/step - accuracy: 0.9525 - loss: 0.1286 - val_accuracy: 0.9333 - val_loss: 0.1824\n"
     ]
    }
   ],
   "source": [
    "hist = model.fit(x = x_train, y = y_train, batch_size = 32, validation_data=(x_val,y_val), epochs=4, verbose=1, shuffle= True)"
   ]
  },
  {
   "cell_type": "code",
   "execution_count": 15,
   "metadata": {
    "execution": {
     "iopub.execute_input": "2024-06-16T04:35:09.627083Z",
     "iopub.status.busy": "2024-06-16T04:35:09.622499Z",
     "iopub.status.idle": "2024-06-16T04:35:09.947286Z",
     "shell.execute_reply": "2024-06-16T04:35:09.946338Z",
     "shell.execute_reply.started": "2024-06-16T04:35:09.627046Z"
    }
   },
   "outputs": [
    {
     "data": {
      "image/png": "[encoded data removed]",
      "text/plain": [
       "<Figure size 640x480 with 1 Axes>"
      ]
     },
     "metadata": {},
     "output_type": "display_data"
    }
   ],
   "source": [
    "plt.plot(hist.history['accuracy'])\n",
    "plt.plot(hist.history['val_accuracy'])\n",
    "plt.title('history: the CNN model accuracy')\n",
    "plt.ylabel('accuracy')\n",
    "plt.xlabel('epoch')\n",
    "plt.legend(['train', 'test'], loc='lower right')\n",
    "plt.show()"
   ]
  },
  {
   "cell_type": "code",
   "execution_count": 16,
   "metadata": {
    "execution": {
     "iopub.execute_input": "2024-06-16T04:35:13.625364Z",
     "iopub.status.busy": "2024-06-16T04:35:13.624560Z",
     "iopub.status.idle": "2024-06-16T04:35:13.846849Z",
     "shell.execute_reply": "2024-06-16T04:35:13.845921Z",
     "shell.execute_reply.started": "2024-06-16T04:35:13.625328Z"
    }
   },
   "outputs": [
    {
     "data": {
      "image/png": "[encoded data removed]",
      "text/plain": [
       "<Figure size 640x480 with 1 Axes>"
      ]
     },
     "metadata": {},
     "output_type": "display_data"
    }
   ],
   "source": [
    "plt.plot(hist.history['loss'])\n",
    "plt.plot(hist.history['val_loss'])\n",
    "plt.title('history: the CNN model loss')\n",
    "plt.ylabel('loss')\n",
    "plt.xlabel('epoch')\n",
    "plt.legend(['train', 'test'], loc='upper right')\n",
    "plt.show()"
   ]
  },
  {
   "cell_type": "code",
   "execution_count": 18,
   "metadata": {
    "execution": {
     "iopub.execute_input": "2024-06-16T04:36:31.911491Z",
     "iopub.status.busy": "2024-06-16T04:36:31.911096Z",
     "iopub.status.idle": "2024-06-16T04:36:37.724773Z",
     "shell.execute_reply": "2024-06-16T04:36:37.723800Z",
     "shell.execute_reply.started": "2024-06-16T04:36:31.911456Z"
    }
   },
   "outputs": [
    {
     "name": "stdout",
     "output_type": "stream",
     "text": [
      "compile_metrics: 93.66%\n"
     ]
    }
   ],
   "source": [
    "# evaluate the model\n",
    "scores = model.evaluate(x_test, y_test, verbose=0)\n",
    "print(\"%s: %.2f%%\" % (model.metrics_names[1], scores[1]*100))"
   ]
  },
  {
   "cell_type": "markdown",
   "metadata": {},
   "source": [
    "## Save model"
   ]
  },
  {
   "cell_type": "code",
   "execution_count": 21,
   "metadata": {
    "execution": {
     "iopub.execute_input": "2024-06-16T04:37:05.626536Z",
     "iopub.status.busy": "2024-06-16T04:37:05.625816Z",
     "iopub.status.idle": "2024-06-16T04:37:05.908552Z",
     "shell.execute_reply": "2024-06-16T04:37:05.907736Z",
     "shell.execute_reply.started": "2024-06-16T04:37:05.626502Z"
    }
   },
   "outputs": [],
   "source": [
    "model.save_weights('idod.weights.h5')"
   ]
  }
 ],
 "metadata": {
  "kaggle": {
   "accelerator": "gpu",
   "dataSources": [
    {
     "datasetId": 5217887,
     "sourceId": 8699940,
     "sourceType": "datasetVersion"
    }
   ],
   "dockerImageVersionId": 30733,
   "isGpuEnabled": true,
   "isInternetEnabled": true,
   "language": "python",
   "sourceType": "notebook"
  },
  "kernelspec": {
   "display_name": "Python 3 (ipykernel)",
   "language": "python",
   "name": "python3"
  },
  "language_info": {
   "codemirror_mode": {
    "name": "ipython",
    "version": 3
   },
   "file_extension": ".py",
   "mimetype": "text/x-python",
   "name": "python",
   "nbconvert_exporter": "python",
   "pygments_lexer": "ipython3",
   "version": "3.9.12"
  }
 },
 "nbformat": 4,
 "nbformat_minor": 4
}
